{
 "cells": [
  {
   "cell_type": "code",
   "execution_count": 1,
   "id": "76d3e634-9ee9-4d3c-8c62-11e29748f063",
   "metadata": {},
   "outputs": [
    {
     "name": "stdin",
     "output_type": "stream",
     "text": [
      "Enter the value of n :  3.4\n"
     ]
    },
    {
     "name": "stdout",
     "output_type": "stream",
     "text": [
      "n = 3.4\n"
     ]
    }
   ],
   "source": [
    "n = float(input(\"Enter the value of n : \"))\n",
    "print(\"n =\", n)"
   ]
  },
  {
   "cell_type": "code",
   "execution_count": 2,
   "id": "19c7a119-12fc-4cc4-90b7-abb21d575c1b",
   "metadata": {},
   "outputs": [
    {
     "name": "stdin",
     "output_type": "stream",
     "text": [
      "Enter the value of n :  3.1\n"
     ]
    },
    {
     "name": "stdout",
     "output_type": "stream",
     "text": [
      "n=3.1 is not an integer\n"
     ]
    },
    {
     "name": "stdin",
     "output_type": "stream",
     "text": [
      "Enter the value of n :  4\n"
     ]
    },
    {
     "name": "stdout",
     "output_type": "stream",
     "text": [
      "n=4.0 is an Integer\n",
      "n=4.0 is even\n"
     ]
    }
   ],
   "source": [
    "n = float(input(\"Enter the value of n : \"))\n",
    "while True:\n",
    "    if n != int(n):\n",
    "        print(f\"n={n} is not an integer\")\n",
    "    else : \n",
    "        print(f\"n={n} is an Integer\")\n",
    "        break\n",
    "    n = float(input(\"Enter the value of n : \"))\n",
    "if n == int(n):\n",
    "    if (n%2 == 0):\n",
    "        print(f\"n={n} is even\")\n",
    "    else :\n",
    "        print(f\"n={n} is odd\")"
   ]
  },
  {
   "cell_type": "code",
   "execution_count": 3,
   "id": "a89d098b-e455-4b7e-be34-e586d5dc7042",
   "metadata": {},
   "outputs": [
    {
     "name": "stdin",
     "output_type": "stream",
     "text": [
      "Enter the number of elements in the array:  2\n"
     ]
    },
    {
     "name": "stdout",
     "output_type": "stream",
     "text": [
      "Enter the elements of the array:\n"
     ]
    },
    {
     "name": "stdin",
     "output_type": "stream",
     "text": [
      " 2.1\n",
      " 2.3\n"
     ]
    },
    {
     "name": "stdout",
     "output_type": "stream",
     "text": [
      "The array is: [2.1 2.3]\n"
     ]
    }
   ],
   "source": [
    "import numpy as np\n",
    "\n",
    "n = int(input(\"Enter the number of elements in the array: \"))\n",
    "arr = np.zeros(n, dtype=float)\n",
    "\n",
    "print(\"Enter the elements of the array:\")\n",
    "for i in range(n):\n",
    "    arr[i] = float(input())\n",
    "\n",
    "print(\"The array is:\", arr)"
   ]
  },
  {
   "cell_type": "code",
   "execution_count": 4,
   "id": "cd2f9b3f-c9e7-4428-a19d-0c9dd6dc5b11",
   "metadata": {},
   "outputs": [
    {
     "name": "stdout",
     "output_type": "stream",
     "text": [
      "Original matrix: \n",
      "[[  90   69    0   -1   -3]\n",
      " [   4    2    3    7  406]\n",
      " [  11  -12   -3   43   33]\n",
      " [   7    7   -1   -9 -100]\n",
      " [ 100   62    2    1   11]]\n",
      "____________________________________________________________________________________________________ \n",
      "\n",
      "Adjusting row 1 :\n",
      "[[  90   69    0   -1   -3]\n",
      " [   4    2    3    7  406]\n",
      " [  11  -12   -3   43   33]\n",
      " [   7    7   -1   -9 -100]\n",
      " [ 100   62    2    1   11]]\n",
      "____________________________________________________________________________________________________\n",
      "Adjusting row 2 :\n",
      "[[  90   69    0   -1   -3]\n",
      " [   4  406    3    7    2]\n",
      " [  11  -12   -3   43   33]\n",
      " [   7    7   -1   -9 -100]\n",
      " [ 100   62    2    1   11]]\n",
      "____________________________________________________________________________________________________\n",
      "Adjusting row 3 :\n",
      "[[  90   69    0   -1   -3]\n",
      " [   4  406    3    7    2]\n",
      " [  11  -12   43   -3   33]\n",
      " [   7    7   -1   -9 -100]\n",
      " [ 100   62    2    1   11]]\n",
      "____________________________________________________________________________________________________\n",
      "Adjusting row 4 :\n",
      "[[  90   69    0   -1   -3]\n",
      " [   4  406    3    7    2]\n",
      " [  11  -12   43   -3   33]\n",
      " [   7    7   -1 -100   -9]\n",
      " [ 100   62    2    1   11]]\n",
      "____________________________________________________________________________________________________\n",
      "Adjusting row 5 :\n",
      "[[  90   69    0   -1   -3]\n",
      " [   4  406    3    7    2]\n",
      " [  11  -12   43   -3   33]\n",
      " [   7    7   -1 -100   -9]\n",
      " [  11   62    2    1  100]]\n",
      "____________________________________________________________________________________________________\n",
      "____________________________________________________________________________________________________ \n",
      "\n",
      "Matrix obtained is: \n",
      "[[  90   69    0   -1   -3]\n",
      " [   4  406    3    7    2]\n",
      " [  11  -12   43   -3   33]\n",
      " [   7    7   -1 -100   -9]\n",
      " [  11   62    2    1  100]]\n",
      "[[  90   69    0   -1   -3]\n",
      " [   4  406    3    7    2]\n",
      " [  11  -12   43   -3   33]\n",
      " [   7    7   -1 -100   -9]\n",
      " [  11   62    2    1  100]]\n",
      " is not diagonally dominant\n",
      "The following row(s) are not diagonally dominant:\n",
      "Row with index 2: [ 11 -12  43  -3  33]\n"
     ]
    }
   ],
   "source": [
    "def diagonallyDominant(arr, verbose=False):\n",
    "    n = arr.shape[0]\n",
    "    for i in range(n):\n",
    "        max_val = max(abs(arr[i, j]) for j in range(n) if j != i)\n",
    "        max_index = np.argmax(np.abs(arr[i, :]))\n",
    "        arr[i, i], arr[i, max_index] = arr[i, max_index], arr[i, i]\n",
    "        if verbose:\n",
    "            print(\"Adjusting row\", i + 1, \":\")\n",
    "            print(arr)\n",
    "            print(\"_\"*100)\n",
    "    return arr\n",
    "arr = np.array([[90, 69, 0, -1, -3], [4, 2, 3, 7, 406], [11, -12, -3, 43, 33], [7, 7, -1, -9, -100] ,[100, 62, 2, 1, 11]])\n",
    "print(\"Original matrix: \")\n",
    "print(arr)\n",
    "print(\"_\"*100,\"\\n\")\n",
    "A = diagonallyDominant(arr, verbose=True)\n",
    "print(\"_\"*100,\"\\n\")\n",
    "print(\"Matrix obtained is: \")\n",
    "print(A)"
   ]
  },
  {
   "cell_type": "code",
   "execution_count": 5,
   "id": "5bed57b0-09b9-4a4c-a6f9-2f21e93fe8d8",
   "metadata": {},
   "outputs": [
    {
     "name": "stdout",
     "output_type": "stream",
     "text": [
      "[[  90   69    0   -1   -3]\n",
      " [   4  406    3    7    2]\n",
      " [  11  -12   43   -3   33]\n",
      " [   7    7   -1 -100   -9]\n",
      " [  11   62    2    1  100]]\n",
      " is not diagonally dominant\n",
      "The following row(s) are not diagonally dominant:\n",
      "Row with index 2: [ 11 -12  43  -3  33]\n"
     ]
    }
   ],
   "source": [
    "row_sum = 0\n",
    "cnt = 0\n",
    "arr = A\n",
    "n = arr.shape[0]\n",
    "problematic_rows = []\n",
    "for i in range(n):\n",
    "    row_sum = np.sum(np.abs(arr[i,:])) - np.abs(arr[i,i])\n",
    "    if np.abs(arr[i,i]) > row_sum:\n",
    "        cnt += 1\n",
    "    else :\n",
    "        problematic_rows.append((i,A[i,:]))\n",
    "\n",
    "if cnt == n:\n",
    "    print(f\"{A} is diagonally dominant\")\n",
    "else:\n",
    "    print(f\"{A}\\n is not diagonally dominant\")\n",
    "    print(\"The following row(s) are not diagonally dominant:\")\n",
    "    for row_index, row_elements in problematic_rows:\n",
    "        print(f\"Row with index {row_index}: {row_elements}\")"
   ]
  },
  {
   "cell_type": "code",
   "execution_count": 6,
   "id": "95a2599b-b5fc-4690-b09c-32376c01d648",
   "metadata": {},
   "outputs": [
    {
     "data": {
      "image/png": "[encoded data removed]",
      "text/plain": [
       "<Figure size 600x1000 with 2 Axes>"
      ]
     },
     "metadata": {},
     "output_type": "display_data"
    }
   ],
   "source": [
    "from matplotlib import pyplot as plt\n",
    "\n",
    "x = np.linspace(-100, 100, 10000)\n",
    "y_relu = []\n",
    "y_sigmoid = []\n",
    "y_tanh = []\n",
    "for i in range(len(x)):\n",
    "    y_relu.append(max(0, x[i]))\n",
    "    y_sigmoid.append(1 / (1+ np.exp(-x[i])))\n",
    "    y_tanh.append(np.tanh(x[i]))\n",
    "plt.figure(figsize=(6,10))\n",
    "plt.subplot(2, 1, 1)\n",
    "plt.plot(x, y_relu)\n",
    "\n",
    "plt.subplot(2, 1, 2)\n",
    "plt.plot(x, y_sigmoid,c = 'b')\n",
    "plt.plot(x, y_tanh,c= 'r')\n",
    "plt.show()\n"
   ]
  },
  {
   "cell_type": "code",
   "execution_count": 7,
   "id": "ff0cb5cf-2da6-4614-ba55-b85660ab5771",
   "metadata": {},
   "outputs": [
    {
     "data": {
      "image/png": "[encoded data removed]",
      "text/plain": [
       "<Figure size 640x480 with 1 Axes>"
      ]
     },
     "metadata": {},
     "output_type": "display_data"
    }
   ],
   "source": [
    "x = []\n",
    "y_relu = []\n",
    "y_sigmoid = []\n",
    "y_tanh = []\n",
    "\n",
    "for i in range(n):\n",
    "    x.append(A[i,i])\n",
    "\n",
    "for i in range(len(x)):\n",
    "    y_relu.append(max(0, x[i]))\n",
    "    y_sigmoid.append(1 / (1+ np.exp(-x[i])))\n",
    "    y_tanh.append(np.tanh(x[i]))\n",
    "\n",
    "plt.scatter(x, y_relu,marker = 'o')\n",
    "plt.scatter(x, y_sigmoid,marker = '*')\n",
    "plt.scatter(x, y_tanh,marker = '+')\n",
    "plt.show()\n"
   ]
  },
  {
   "cell_type": "code",
   "execution_count": 10,
   "id": "1c5a42fb-1221-421d-9fda-018eb762eea7",
   "metadata": {},
   "outputs": [
    {
     "name": "stdout",
     "output_type": "stream",
     "text": [
      "Softmax of the diagonal elementsof the matrix : \n",
      " [5.79353612e-138 1.00000000e+000 2.24441452e-158 1.76600593e-220\n",
      " 1.27611125e-133]\n"
     ]
    }
   ],
   "source": [
    "def softmax(arr):\n",
    "    n = arr.shape[0]\n",
    "    dd = np.zeros(n)\n",
    "    for i in range(n):\n",
    "        dd[i]=np.exp(arr[i,i]) / np.sum(np.exp(np.diag(arr)))\n",
    "    return dd\n",
    "print(\"Softmax of the diagonal elementsof the matrix : \\n\", softmax(A))"
   ]
  },
  {
   "cell_type": "code",
   "execution_count": 12,
   "id": "1dbde473-75da-4f27-85d3-506a4fdee556",
   "metadata": {},
   "outputs": [
    {
     "data": {
      "image/png": "[encoded data removed]",
      "text/plain": [
       "<Figure size 640x480 with 1 Axes>"
      ]
     },
     "metadata": {},
     "output_type": "display_data"
    }
   ],
   "source": [
    "y = softmax(arr)\n",
    "plt.scatter(y,x)\n",
    "plt.show()"
   ]
  },
  {
   "cell_type": "code",
   "execution_count": 14,
   "id": "ae622f98-b09e-4265-b1aa-ed861aa35e9b",
   "metadata": {},
   "outputs": [
    {
     "name": "stdout",
     "output_type": "stream",
     "text": [
      "90 : Not a max element in all diagonal elements\n",
      "406 : Max element in all diagonal elements\n",
      "43 : Not a max element in all diagonal elements\n",
      "-100 : Not a max element in all diagonal elements\n",
      "100 : Not a max element in all diagonal elements\n"
     ]
    }
   ],
   "source": [
    "import numpy as np\n",
    "\n",
    "def softmax(arr):\n",
    "    n = arr.shape[0]\n",
    "    dd = np.zeros(n)\n",
    "    \n",
    "    for i in range(n):\n",
    "        dd[i] = np.exp(arr[i,i]) / np.sum(np.exp(np.diag(arr)))\n",
    "    \n",
    "    return dd\n",
    "\n",
    "arr = np.array([[90,69,0,-1,-3],\n",
    "                [4,406,3,7,2],\n",
    "                [11,-12,43,-3,33],\n",
    "                [7,7,-1,-100,-9],\n",
    "                [11,62,2,1,100]])\n",
    "\n",
    "diagonalelements = np.diag(arr)\n",
    "softmax_diagonal = softmax(arr)\n",
    "\n",
    "maxindex = np.argmax(diagonalelements)\n",
    "max_softmax_index = np.argmax(softmax_diagonal)\n",
    "\n",
    "max_element = diagonalelements[maxindex]\n",
    "\n",
    "for i in range(len(diagonalelements)):\n",
    "    if i == maxindex:\n",
    "        print(f\"{max_element} : Max element in all diagonal elements\")\n",
    "    else:\n",
    "        print(f\"{diagonalelements[i]} : Not a max element in all diagonal elements\")"
   ]
  }
 ],
 "metadata": {
  "kernelspec": {
   "display_name": "Python 3 (ipykernel)",
   "language": "python",
   "name": "python3"
  },
  "language_info": {
   "codemirror_mode": {
    "name": "ipython",
    "version": 3
   },
   "file_extension": ".py",
   "mimetype": "text/x-python",
   "name": "python",
   "nbconvert_exporter": "python",
   "pygments_lexer": "ipython3",
   "version": "3.12.3"
  }
 },
 "nbformat": 4,
 "nbformat_minor": 5
}
